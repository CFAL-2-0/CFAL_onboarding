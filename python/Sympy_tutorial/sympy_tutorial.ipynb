{
 "cells": [
  {
   "cell_type": "code",
   "execution_count": 2,
   "id": "bf13af48",
   "metadata": {},
   "outputs": [],
   "source": [
    "import sympy as sp"
   ]
  },
  {
   "cell_type": "code",
   "execution_count": 4,
   "id": "b110a463",
   "metadata": {},
   "outputs": [],
   "source": [
    "x,y,u,v = sp.symbols('x y u v')\n"
   ]
  },
  {
   "cell_type": "code",
   "execution_count": 5,
   "id": "318d8490",
   "metadata": {},
   "outputs": [
    {
     "data": {
      "text/latex": [
       "$\\displaystyle \\frac{\\partial}{\\partial x} \\rho{\\left(x,y,t \\right)} u{\\left(x,y,t \\right)} + \\frac{\\partial}{\\partial y} \\rho{\\left(x,y,t \\right)} v{\\left(x,y,t \\right)} + \\frac{\\partial}{\\partial t} \\rho{\\left(x,y,t \\right)} = 0$"
      ],
      "text/plain": [
       "Eq(Derivative(rho(x, y, t)*u(x, y, t), x) + Derivative(rho(x, y, t)*v(x, y, t), y) + Derivative(rho(x, y, t), t), 0)"
      ]
     },
     "execution_count": 5,
     "metadata": {},
     "output_type": "execute_result"
    }
   ],
   "source": [
    "# Display the continuity equation for fluid dynamics using sympy\n",
    "rho = sp.Function('rho')(x, y)\n",
    "u = sp.Function('u')(x, y)\n",
    "v = sp.Function('v')(x, y)\n",
    "# 2D continuity equation: ∂ρ/∂t + ∂(ρu)/∂x + ∂(ρv)/∂y = 0\n",
    "t = sp.symbols('t')\n",
    "rho = sp.Function('rho')(x, y, t)\n",
    "u = sp.Function('u')(x, y, t)\n",
    "v = sp.Function('v')(x, y, t)\n",
    "continuity_eq = sp.Eq(sp.Derivative(rho, t) + sp.Derivative(rho*u, x) + sp.Derivative(rho*v, y), 0)\n",
    "continuity_eq"
   ]
  },
  {
   "cell_type": "code",
   "execution_count": null,
   "id": "9c59cdaa",
   "metadata": {},
   "outputs": [],
   "source": []
  }
 ],
 "metadata": {
  "kernelspec": {
   "display_name": ".venv",
   "language": "python",
   "name": "python3"
  },
  "language_info": {
   "codemirror_mode": {
    "name": "ipython",
    "version": 3
   },
   "file_extension": ".py",
   "mimetype": "text/x-python",
   "name": "python",
   "nbconvert_exporter": "python",
   "pygments_lexer": "ipython3",
   "version": "3.10.11"
  }
 },
 "nbformat": 4,
 "nbformat_minor": 5
}
